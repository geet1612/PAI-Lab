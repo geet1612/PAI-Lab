{
  "nbformat": 4,
  "nbformat_minor": 0,
  "metadata": {
    "colab": {
      "provenance": [],
      "authorship_tag": "ABX9TyM56SpK9nTe2iAQRGGyBS6/",
      "include_colab_link": true
    },
    "kernelspec": {
      "name": "python3",
      "display_name": "Python 3"
    },
    "language_info": {
      "name": "python"
    }
  },
  "cells": [
    {
      "cell_type": "markdown",
      "metadata": {
        "id": "view-in-github",
        "colab_type": "text"
      },
      "source": [
        "<a href=\"https://colab.research.google.com/github/geet1612/PAI-Lab/blob/main/Geetansh.ipynb\" target=\"_parent\"><img src=\"https://colab.research.google.com/assets/colab-badge.svg\" alt=\"Open In Colab\"/></a>"
      ]
    },
    {
      "cell_type": "markdown",
      "source": [
        "Implementing a program for game search using Minimax algorithm"
      ],
      "metadata": {
        "id": "oNHWHrB88Ysf"
      }
    },
    {
      "cell_type": "code",
      "source": [
        "#Min Max Method\n",
        "import math\n",
        "\n",
        "def minimax (curDepth, nodeIndex,\n",
        "\t\t\tmaxTurn, scores,\n",
        "\t\t\ttargetDepth):\n",
        "\n",
        "\t# base case : targetDepth reached\n",
        "\tif (curDepth == targetDepth):\n",
        "\t\treturn scores[nodeIndex]\n",
        "\n",
        "\tif (maxTurn):\n",
        "\t\treturn max(minimax(curDepth + 1, nodeIndex * 2,\n",
        "\t\t\t\t\tFalse, scores, targetDepth),\n",
        "\t\t\t\tminimax(curDepth + 1, nodeIndex * 2 + 1,\n",
        "\t\t\t\t\tFalse, scores, targetDepth))\n",
        "\n",
        "\telse:\n",
        "\t\treturn min(minimax(curDepth + 1, nodeIndex * 2,\n",
        "\t\t\t\t\tTrue, scores, targetDepth),\n",
        "\t\t\t\tminimax(curDepth + 1, nodeIndex * 2 + 1,\n",
        "\t\t\t\t\tTrue, scores, targetDepth))\n",
        "\n",
        "# Driver code\n",
        "scores = [3, 5, 2, 9, 12, 5, 23, 23]\n",
        "\n",
        "treeDepth = math.log(len(scores), 2)\n",
        "\n",
        "print(\"The optimal value is : \", end = \"\")\n",
        "print(minimax(0, 0, True, scores, treeDepth))"
      ],
      "metadata": {
        "colab": {
          "base_uri": "https://localhost:8080/"
        },
        "id": "ZPW64nOo9Py5",
        "outputId": "9e1499cf-7aca-4a2e-9e1f-271a3b331df0"
      },
      "execution_count": 2,
      "outputs": [
        {
          "output_type": "stream",
          "name": "stdout",
          "text": [
            "The optimal value is : 12\n"
          ]
        }
      ]
    }
  ]
}