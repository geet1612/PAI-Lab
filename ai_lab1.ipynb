{
  "nbformat": 4,
  "nbformat_minor": 0,
  "metadata": {
    "colab": {
      "provenance": [],
      "include_colab_link": true
    },
    "kernelspec": {
      "name": "python3",
      "display_name": "Python 3"
    },
    "language_info": {
      "name": "python"
    }
  },
  "cells": [
    {
      "cell_type": "markdown",
      "metadata": {
        "id": "view-in-github",
        "colab_type": "text"
      },
      "source": [
        "<a href=\"https://colab.research.google.com/github/geet1612/PAI-Lab/blob/main/ai_lab1.ipynb\" target=\"_parent\"><img src=\"https://colab.research.google.com/assets/colab-badge.svg\" alt=\"Open In Colab\"/></a>"
      ]
    },
    {
      "cell_type": "code",
      "execution_count": null,
      "metadata": {
        "colab": {
          "base_uri": "https://localhost:8080/"
        },
        "id": "fMgJrv7KT-em",
        "outputId": "7bfae3f8-9606-42a0-b74d-51d5c6137c1d"
      },
      "outputs": [
        {
          "output_type": "stream",
          "name": "stdout",
          "text": [
            "Steps: \n",
            "0 0\n",
            "4 0\n",
            "4 3\n",
            "0 3\n",
            "3 0\n",
            "3 3\n",
            "4 2\n",
            "0 2\n"
          ]
        },
        {
          "output_type": "execute_result",
          "data": {
            "text/plain": [
              "True"
            ]
          },
          "metadata": {},
          "execution_count": 5
        }
      ],
      "source": [
        "from collections import defaultdict\n",
        "jug1, jug2, aim = 4,3,2\n",
        "visited = defaultdict(lambda: False)\n",
        "def waterJugSolver(amt1, amt2):\n",
        "\tif (amt1 == aim and amt2 == 0) or (amt2 == aim and amt1 == 0):\n",
        "\t\tprint(amt1, amt2)\n",
        "\t\treturn True\n",
        "\tif visited[(amt1, amt2)] == False:\n",
        "\t\tprint(amt1, amt2)\n",
        "\t\tvisited[(amt1, amt2)] = True\n",
        "\t\treturn (waterJugSolver(0, amt2) or\n",
        "\t\t\t\twaterJugSolver(amt1, 0) or\n",
        "\t\t\t\twaterJugSolver(jug1, amt2) or\n",
        "\t\t\t\twaterJugSolver(amt1, jug2) or\n",
        "\t\t\t\twaterJugSolver(amt1 + min(amt2, (jug1-amt1)),\n",
        "\t\t\t\tamt2 - min(amt2, (jug1-amt1))) or\n",
        "\t\t\t\twaterJugSolver(amt1 - min(amt1, (jug2-amt2)),\n",
        "\t\t\t\tamt2 + min(amt1, (jug2-amt2))))\n",
        "\telse:\n",
        "\t\treturn False\n",
        "print(\"Steps: \")\n",
        "waterJugSolver(0, 0)\n"
      ]
    },
    {
      "cell_type": "code",
      "source": [
        "from collections import deque\n",
        "\n",
        "def bfs(a, b, target):\n",
        "    visited = set()\n",
        "    path = []\n",
        "    queue = deque([(0, 0)])\n",
        "\n",
        "    while queue:\n",
        "        x, y = queue.popleft()\n",
        "\n",
        "        if (x, y) in visited or x > a or y > b or x < 0 or y < 0:\n",
        "            continue\n",
        "\n",
        "        path.append((x, y))\n",
        "        visited.add((x, y))\n",
        "\n",
        "        if x == target or y == target:\n",
        "            path.append((x, 0) if x == target else (0, y))\n",
        "            for p in path:\n",
        "                print(p)\n",
        "            return\n",
        "\n",
        "        queue.extend([(x, b), (a, y), (0, y), (x, 0)])\n",
        "\n",
        "        for ap in range(max(a, b) + 1):\n",
        "          queue.extend([(x + ap, y - ap) if x + ap <= a and y - ap >= 0 else (x - ap, y + ap)])\n",
        "\n",
        "   # print(\"No solution\")\n",
        "\n",
        "# Example usage:\n",
        "if __name__ == '__main__':\n",
        "    bfs(4, 3, 2)"
      ],
      "metadata": {
        "colab": {
          "base_uri": "https://localhost:8080/"
        },
        "id": "gLHDFIN3XC9G",
        "outputId": "f4e9cf7f-38b2-40c2-944c-edf21a479cd8"
      },
      "execution_count": null,
      "outputs": [
        {
          "output_type": "stream",
          "name": "stdout",
          "text": [
            "(0, 0)\n",
            "(0, 3)\n",
            "(4, 0)\n",
            "(4, 3)\n",
            "(1, 2)\n",
            "(0, 2)\n"
          ]
        }
      ]
    },
    {
      "cell_type": "code",
      "source": [
        "import math\n",
        "def minimax (curDepth, nodeIndex,\n",
        "\t\t\tmaxTurn, scores,\n",
        "\t\t\ttargetDepth):\n",
        "\tif (curDepth == targetDepth):\n",
        "\t\treturn scores[nodeIndex]\n",
        "\tif (maxTurn):\n",
        "\t\treturn max(minimax(curDepth + 1, nodeIndex * 2,\n",
        "\t\t\t\t\tFalse, scores, targetDepth),\n",
        "\t\t\t\tminimax(curDepth + 1, nodeIndex * 2 + 1,\n",
        "\t\t\t\t\tFalse, scores, targetDepth))\n",
        "\telse:\n",
        "\t\treturn min(minimax(curDepth + 1, nodeIndex * 2,\n",
        "\t\t\t\t\tTrue, scores, targetDepth),\n",
        "\t\t\t\tminimax(curDepth + 1, nodeIndex * 2 + 1,\n",
        "\t\t\t\t\tTrue, scores, targetDepth))\n",
        "scores = [3, 5, 2, 9, 12, 5, 23, 23]\n",
        "treeDepth = math.log(len(scores), 2)\n",
        "print(\"The optimal value is : \", end = \"\")\n",
        "print(minimax(0, 0, True, scores, treeDepth))"
      ],
      "metadata": {
        "colab": {
          "base_uri": "https://localhost:8080/"
        },
        "id": "3Z4MaX5FuhW0",
        "outputId": "5f901d7c-9fab-43e3-de94-f58dcfb0672e"
      },
      "execution_count": null,
      "outputs": [
        {
          "output_type": "stream",
          "name": "stdout",
          "text": [
            "The optimal value is : 12\n"
          ]
        }
      ]
    },
    {
      "cell_type": "code",
      "source": [
        "MAX, MIN = 1000, -1000\n",
        "def minimax(depth, nodeIndex, maximizingPlayer,\n",
        "\t\t\tvalues, alpha, beta):\n",
        "\tif depth == 3:\n",
        "\t\treturn values[nodeIndex]\n",
        "\tif maximizingPlayer:\n",
        "\t\tbest = MIN\n",
        "\t\tfor i in range(0, 2):\n",
        "\t\t\tval = minimax(depth + 1, nodeIndex * 2 + i,\n",
        "\t\t\t\t\t\tFalse, values, alpha, beta)\n",
        "\t\t\tbest = max(best, val)\n",
        "\t\t\talpha = max(alpha, best)\n",
        "\t\t\tif beta <= alpha:\n",
        "\t\t\t\tbreak\n",
        "\t\treturn best\n",
        "\telse:\n",
        "\t\tbest = MAX\n",
        "\t\tfor i in range(0, 2):\n",
        "\t\t\tval = minimax(depth + 1, nodeIndex * 2 + i,\n",
        "\t\t\t\t\t\t\tTrue, values, alpha, beta)\n",
        "\t\t\tbest = min(best, val)\n",
        "\t\t\tbeta = min(beta, best)\n",
        "\t\t\tif beta <= alpha:\n",
        "\t\t\t\tbreak\n",
        "\t\treturn best\n",
        "if __name__ == \"__main__\":\n",
        "\tvalues = [3, 5, 6, 9, 1, 2, 0, -1]\n",
        "\tprint(\"The optimal value is :\", minimax(0, 0, True, values, MIN, MAX))\n",
        "\n"
      ],
      "metadata": {
        "colab": {
          "base_uri": "https://localhost:8080/"
        },
        "id": "T3fuK8wSyoW5",
        "outputId": "b4d150fe-b987-4688-bd9a-03d16eba53cd"
      },
      "execution_count": null,
      "outputs": [
        {
          "output_type": "stream",
          "name": "stdout",
          "text": [
            "The optimal value is : 5\n"
          ]
        }
      ]
    },
    {
      "cell_type": "code",
      "source": [
        "\n",
        "from simpleai.search import CspProblem, backtrack\n",
        "\n",
        "def constraint_func(names, values):\n",
        "    return values[0] != values[1]\n",
        "\n",
        "if __name__ == '__main__':\n",
        "    names = ( 'Ju', 'St', 'Am', 'Br', 'Jo', 'De', 'Al', 'Mi', 'Ke')\n",
        "    colors = {name: ['red', 'green', 'blue', 'gray'] for name in names}\n",
        "\n",
        "    constraints = [\n",
        "        (('Ju', 'St'), constraint_func),\n",
        "        (('Ju', 'Am'), constraint_func),\n",
        "        (('Ju', 'De'), constraint_func),\n",
        "        (('Ju', 'Br'), constraint_func),\n",
        "        (('St', 'Am'), constraint_func),\n",
        "        (('St', 'Al'), constraint_func),\n",
        "        (('St', 'Mi'), constraint_func),\n",
        "        (('Am', 'Mi'), constraint_func),\n",
        "        (('Am', 'Jo'), constraint_func),\n",
        "        (('Am', 'De'), constraint_func),\n",
        "        (('Br', 'De'), constraint_func),\n",
        "        (('Br', 'Ke'), constraint_func),\n",
        "        (('Jo', 'Mi'), constraint_func),\n",
        "        (('Jo', 'Am'), constraint_func),\n",
        "        (('Jo', 'De'), constraint_func),\n",
        "        (('Jo', 'Ke'), constraint_func),\n",
        "        (('De', 'Ke'), constraint_func),\n",
        "    ]\n",
        "\n",
        "    problem = CspProblem(names, colors, constraints)\n",
        "    output = backtrack(problem)\n",
        "\n",
        "    print('\\nColor mapping:\\n')\n",
        "    for k, v in output.items():\n",
        "        print(k,\"==>\",v)"
      ],
      "metadata": {
        "colab": {
          "base_uri": "https://localhost:8080/"
        },
        "id": "51TkHDscy9y2",
        "outputId": "22698652-68e3-4ce4-a114-4f84c4d3e000"
      },
      "execution_count": null,
      "outputs": [
        {
          "output_type": "stream",
          "name": "stdout",
          "text": [
            "\n",
            "Color mapping:\n",
            "\n",
            "Ju ==> red\n",
            "St ==> green\n",
            "Am ==> blue\n",
            "Br ==> green\n",
            "Jo ==> red\n",
            "De ==> gray\n",
            "Al ==> red\n",
            "Mi ==> gray\n",
            "Ke ==> blue\n"
          ]
        }
      ]
    },
    {
      "cell_type": "code",
      "source": [
        "from pgmpy.models import BayesianModel\n",
        "from pgmpy.estimators import MaximumLikelihoodEstimator\n",
        "from pgmpy.inference import VariableElimination\n",
        "import pandas as pd\n",
        "data = pd.DataFrame(data={\n",
        "    'Rain': ['No', 'No', 'Yes', 'Yes', 'No', 'Yes', 'Yes', 'No'],\n",
        "    'TrafficJam': ['Yes', 'No', 'Yes', 'No', 'Yes', 'Yes', 'No', 'No'],\n",
        "    'ArriveLate': ['Yes', 'No', 'Yes', 'No', 'No', 'Yes', 'Yes', 'No']\n",
        "})\n",
        "model = BayesianModel([('Rain', 'TrafficJam'), ('TrafficJam', 'ArriveLate')])\n",
        "model.fit(data, estimator=MaximumLikelihoodEstimator)\n",
        "print(model.get_cpds())\n",
        "inference = VariableElimination(model)\n",
        "query_result = inference.query(variables=['ArriveLate'], evidence={'Rain': 'Yes'})\n",
        "print(query_result)\n"
      ],
      "metadata": {
        "colab": {
          "base_uri": "https://localhost:8080/"
        },
        "id": "bwqzercYnGWz",
        "outputId": "677f1291-0009-4605-9d99-feb68824c36a"
      },
      "execution_count": null,
      "outputs": [
        {
          "output_type": "stream",
          "name": "stderr",
          "text": [
            "WARNING:pgmpy:BayesianModel has been renamed to BayesianNetwork. Please use BayesianNetwork class, BayesianModel will be removed in future.\n",
            "WARNING:pgmpy:BayesianModel has been renamed to BayesianNetwork. Please use BayesianNetwork class, BayesianModel will be removed in future.\n",
            "WARNING:pgmpy:BayesianModel has been renamed to BayesianNetwork. Please use BayesianNetwork class, BayesianModel will be removed in future.\n"
          ]
        },
        {
          "output_type": "stream",
          "name": "stdout",
          "text": [
            "[<TabularCPD representing P(Rain:2) at 0x7f40f38f3df0>, <TabularCPD representing P(TrafficJam:2 | Rain:2) at 0x7f40f38f1c90>, <TabularCPD representing P(ArriveLate:2 | TrafficJam:2) at 0x7f40f38f33a0>]\n",
            "+-----------------+-------------------+\n",
            "| ArriveLate      |   phi(ArriveLate) |\n",
            "+=================+===================+\n",
            "| ArriveLate(No)  |            0.5000 |\n",
            "+-----------------+-------------------+\n",
            "| ArriveLate(Yes) |            0.5000 |\n",
            "+-----------------+-------------------+\n"
          ]
        }
      ]
    },
    {
      "cell_type": "code",
      "source": [
        "from pgmpy.models import BayesianNetwork\n",
        "from pgmpy.factors.discrete import TabularCPD\n",
        "from pgmpy.inference import VariableElimination\n",
        "\n",
        "# Define the Bayesian Network structure\n",
        "model = BayesianNetwork([\n",
        "    ('Burglary', 'Alarm'),\n",
        "    ('Earthquake', 'Alarm'),\n",
        "    ('Alarm', 'JohnCalls'),\n",
        "    ('Alarm', 'MaryCalls')\n",
        "])\n",
        "\n",
        "# Define and add the CPDs\n",
        "model.add_cpds(\n",
        "    TabularCPD(variable='Burglary', variable_card=2, values=[[0.999], [0.001]]),\n",
        "    TabularCPD(variable='Earthquake', variable_card=2, values=[[0.998], [0.002]]),\n",
        "    TabularCPD(variable='Alarm', variable_card=2, values=[[0.95, 0.94, 0.29, 0.001], [0.05, 0.06, 0.71, 0.999]],\n",
        "               evidence=['Burglary', 'Earthquake'], evidence_card=[2, 2]),\n",
        "    TabularCPD(variable='JohnCalls', variable_card=2, values=[[0.90, 0.05], [0.10, 0.95]],\n",
        "               evidence=['Alarm'], evidence_card=[2]),\n",
        "    TabularCPD(variable='MaryCalls', variable_card=2, values=[[0.70, 0.01], [0.30, 0.99]],\n",
        "               evidence=['Alarm'], evidence_card=[2])\n",
        ")\n",
        "\n",
        "# Verify the model\n",
        "#assert model.check_model()\n",
        "\n",
        "# Perform inference\n",
        "inference = VariableElimination(model)\n",
        "\n",
        "# Example queries\n",
        "print(inference.query(variables=['Alarm'], evidence={'Burglary': 1}))\n",
        "print(inference.query(variables=['Alarm'], evidence={'JohnCalls': 1}))\n",
        "print(inference.query(variables=['Burglary'], evidence={'JohnCalls': 1, 'MaryCalls': 1}))\n"
      ],
      "metadata": {
        "colab": {
          "base_uri": "https://localhost:8080/"
        },
        "id": "FYniT-Ntripy",
        "outputId": "41e06293-7ffd-4d61-d90d-1a18310b8b37"
      },
      "execution_count": null,
      "outputs": [
        {
          "output_type": "stream",
          "name": "stdout",
          "text": [
            "+----------+--------------+\n",
            "| Alarm    |   phi(Alarm) |\n",
            "+==========+==============+\n",
            "| Alarm(0) |       0.2894 |\n",
            "+----------+--------------+\n",
            "| Alarm(1) |       0.7106 |\n",
            "+----------+--------------+\n",
            "+----------+--------------+\n",
            "| Alarm    |   phi(Alarm) |\n",
            "+==========+==============+\n",
            "| Alarm(0) |       0.6635 |\n",
            "+----------+--------------+\n",
            "| Alarm(1) |       0.3365 |\n",
            "+----------+--------------+\n",
            "+-------------+-----------------+\n",
            "| Burglary    |   phi(Burglary) |\n",
            "+=============+=================+\n",
            "| Burglary(0) |          0.9911 |\n",
            "+-------------+-----------------+\n",
            "| Burglary(1) |          0.0089 |\n",
            "+-------------+-----------------+\n"
          ]
        }
      ]
    },
    {
      "cell_type": "code",
      "source": [
        "def solve_n_queens(n):\n",
        "    def is_valid(board, row, col):\n",
        "        for i in range(row):\n",
        "            if board[i] == col or \\\n",
        "               board[i] - i == col - row or \\\n",
        "               board[i] + i == col + row:\n",
        "                return False\n",
        "        return True\n",
        "\n",
        "    def solve(board, row):\n",
        "        if row == n:\n",
        "            result.append(board[:])\n",
        "            return\n",
        "        for col in range(n):\n",
        "            if is_valid(board, row, col):\n",
        "                board[row] = col\n",
        "                solve(board, row + 1)\n",
        "                board[row] = -1\n",
        "\n",
        "    def print_solution(board):\n",
        "        solution = []\n",
        "        for i in range(n):\n",
        "            row = ['.'] * n\n",
        "            if board[i] != -1:\n",
        "                row[board[i]] = 'Q'\n",
        "            solution.append(' '.join(row))\n",
        "        return solution\n",
        "\n",
        "    result = []\n",
        "    solve([-1] * n, 0)\n",
        "    return result, print_solution\n",
        "\n",
        "# Example usage:\n",
        "n = 4\n",
        "solutions, print_solution = solve_n_queens(n)\n",
        "\n",
        "# Print all solutions\n",
        "for sol in solutions:\n",
        "    print(\"Solution:\")\n",
        "    for row in print_solution(sol):\n",
        "        print(row)\n",
        "    print(\"\\n\")"
      ],
      "metadata": {
        "colab": {
          "base_uri": "https://localhost:8080/"
        },
        "id": "LwgSSh-9gZ4s",
        "outputId": "ac1f2946-6fec-4ac8-94ac-1e47a0487a3f"
      },
      "execution_count": null,
      "outputs": [
        {
          "output_type": "stream",
          "name": "stdout",
          "text": [
            "Solution:\n",
            ". Q . .\n",
            ". . . Q\n",
            "Q . . .\n",
            ". . Q .\n",
            "\n",
            "\n",
            "Solution:\n",
            ". . Q .\n",
            "Q . . .\n",
            ". . . Q\n",
            ". Q . .\n",
            "\n",
            "\n"
          ]
        }
      ]
    },
    {
      "cell_type": "code",
      "source": [
        "def astaralgo(start_node, stop_node):\n",
        "    open_set = set([start_node])\n",
        "    closed_set = set()\n",
        "    parents = {}\n",
        "    g = {}\n",
        "    g[start_node] = 0\n",
        "    parents[start_node] = start_node\n",
        "    while len(open_set) > 0:\n",
        "        n = None\n",
        "        for v in open_set:\n",
        "            if n is None or g[v] + heuristic(v) < g[n] + heuristic(n):\n",
        "                n = v\n",
        "        if n is None:\n",
        "            print(\"Path doesn't exist\")\n",
        "            return None\n",
        "        if n == stop_node:\n",
        "            path = []\n",
        "            while parents[n] != n:\n",
        "                path.append(n)\n",
        "                n = parents[n]\n",
        "            path.append(start_node)\n",
        "            path.reverse()\n",
        "            print(f\"Path from {start_node} to {stop_node} is: \")\n",
        "            print(path)\n",
        "            return path\n",
        "        for (m, weight) in get_neighbors(n):\n",
        "            if m not in open_set and m not in closed_set:\n",
        "                open_set.add(m)\n",
        "                parents[m] = n\n",
        "                g[m] = g[n] + weight\n",
        "            else:\n",
        "                if g[m] > g[n] + weight:\n",
        "                    g[m] = g[n] + weight\n",
        "                    parents[m] = n\n",
        "\n",
        "                    if m in closed_set:\n",
        "                        closed_set.remove(m)\n",
        "                        open_set.add(m)\n",
        "        open_set.remove(n)\n",
        "        closed_set.add(n)\n",
        "    print(\"No path exists\")\n",
        "    return None\n",
        "def get_neighbors(v):\n",
        "    if v in Graph_nodes:\n",
        "        return Graph_nodes[v]\n",
        "    else:\n",
        "        return []\n",
        "def heuristic(n):\n",
        "    H_dist = {\n",
        "        'A': 11,\n",
        "        'B': 6,\n",
        "        'C': 99,\n",
        "        'D': 1,\n",
        "        'E': 7,\n",
        "        'G': 0,\n",
        "    }\n",
        "    return H_dist[n]\n",
        "Graph_nodes = {\n",
        "    'A': [('B', 2), ('E', 3)],\n",
        "    'B': [('C', 1), ('G', 9)],\n",
        "    'C': [],\n",
        "    'E': [('D', 6)],\n",
        "    'D': [('G', 1)],\n",
        "}\n",
        "\n",
        "astaralgo('A', 'G')"
      ],
      "metadata": {
        "id": "h3uHhMc14usG",
        "outputId": "7fad408d-d02d-4a8c-8bb2-1295c9f150e4",
        "colab": {
          "base_uri": "https://localhost:8080/"
        }
      },
      "execution_count": null,
      "outputs": [
        {
          "output_type": "stream",
          "name": "stdout",
          "text": [
            "Path from A to G is: \n",
            "['A', 'E', 'D', 'G']\n"
          ]
        },
        {
          "output_type": "execute_result",
          "data": {
            "text/plain": [
              "['A', 'E', 'D', 'G']"
            ]
          },
          "metadata": {},
          "execution_count": 18
        }
      ]
    },
    {
      "cell_type": "code",
      "source": [
        "#8a\n",
        "REWARD = -0.01\n",
        "DISCOUNT = 0.99\n",
        "MAX_ERROR = 1e-3  # Using scientific notation for clarity\n",
        "NUM_ACTIONS = 4\n",
        "ACTIONS = [(1, 0), (0, -1), (-1, 0), (0, 1)]\n",
        "NUM_ROW = 3\n",
        "NUM_COL = 4\n",
        "\n",
        "U = [[0, 0, 0, 1], [0, 0, 0, -1], [0, 0, 0, 0], [0, 0, 0, 0]]\n",
        "\n",
        "\n",
        "def printEnvironment(arr, policy=False):\n",
        "    res = \"\"\n",
        "    for r in range(NUM_ROW):\n",
        "        res += \"|\"\n",
        "        for c in range(NUM_COL):\n",
        "            if r == c == 1:\n",
        "                val = \"WALL\"\n",
        "            elif r <= 1 and c == 3:\n",
        "                val = \"+1\" if r == 0 else \"-1\"\n",
        "            else:\n",
        "                if policy:\n",
        "                    val = [\"Down\", \"Left\", \"Up\", \"Right\"][arr[r][c]]\n",
        "                else:\n",
        "                    val = str(arr[r][c])\n",
        "            res += \" \" + val[:5].ljust(5) + \" |\"\n",
        "        res += \"\\n\"\n",
        "    print(res)\n",
        "\n",
        "\n",
        "def getU(U, r, c, action):\n",
        "    dr, dc = ACTIONS[action]\n",
        "    newR, newC = r + dr, c + dc\n",
        "    if newR < 0 or newC < 0 or newR >= NUM_ROW or newC >= NUM_COL or (newR == newC == 1):\n",
        "        return U[r][c]  # Stay in the same state if hitting the wall\n",
        "    else:\n",
        "        return U[newR][newC]\n",
        "\n",
        "\n",
        "def calculateU(U, r, c, action):\n",
        "    u = REWARD  # Immediate reward\n",
        "    # Explore all possible actions and consider their discounted future rewards\n",
        "    for action_index in range(NUM_ACTIONS):\n",
        "        next_u = getU(U, r, c, action_index)\n",
        "        probability = 0.1 if action_index != action else 0.8  # Higher probability for chosen action\n",
        "        u += probability * DISCOUNT * next_u\n",
        "    return u\n",
        "\n",
        "\n",
        "def valueIteration(U, max_iterations=15):\n",
        "    print(\"During the value iteration (limited to\", max_iterations, \"iterations):\\n\")\n",
        "    for i in range(max_iterations):\n",
        "        nextU = [[0, 0, 0, 1], [0, 0, 0, -1], [0, 0, 0, 0], [0, 0, 0, 0]]\n",
        "        error = 0\n",
        "        for r in range(NUM_ROW):\n",
        "            for c in range(NUM_COL):\n",
        "                if (r <= 1 and c == 3) or (r == c == 1):\n",
        "                    continue\n",
        "                nextU[r][c] = max(\n",
        "                    [calculateU(U, r, c, action) for action in range(NUM_ACTIONS)]\n",
        "                )\n",
        "                error = max(error, abs(nextU[r][c] - U[r][c]))\n",
        "        U = nextU\n",
        "        printEnvironment(U)\n",
        "        # Check for convergence even after reaching the maximum iterations\n",
        "        if error < MAX_ERROR * (1 - DISCOUNT) / DISCOUNT:\n",
        "            break\n",
        "    return U\n",
        "\n",
        "\n",
        "def getOptimalPolicy(U):\n",
        "    policy = [[-1, -1, -1, -1] for i in range(NUM_ROW)]\n",
        "    for r in range(NUM_ROW):\n",
        "        for c in range(NUM_COL):\n",
        "            if (r <= 1 and c == 3) or (r == c == 1):\n",
        "                continue\n",
        "            maxAction, maxU = None, -float(\"inf\")\n",
        "            for action in range(NUM_ACTIONS):\n",
        "                u = calculateU(U, r, c, action)\n",
        "                if u > maxU:\n",
        "                    maxAction, maxU = action, u\n",
        "            policy[r][c] = maxAction\n",
        "    return policy\n",
        "\n",
        "\n",
        "print(\"The initial U is:\\n\")\n",
        "printEnvironment(U)\n",
        "U = valueIteration(U)\n",
        "policy = getOptimalPolicy(U)\n",
        "print(\"The optimal policy \", len(U), \"iterations\" )\n",
        "printEnvironment(policy,True)"
      ],
      "metadata": {
        "colab": {
          "base_uri": "https://localhost:8080/"
        },
        "id": "rE00Z4KckV3J",
        "outputId": "85466c1c-7cd3-4a30-da68-9a7154254650"
      },
      "execution_count": null,
      "outputs": [
        {
          "output_type": "stream",
          "name": "stdout",
          "text": [
            "The initial U is:\n",
            "\n",
            "| 0     | 0     | 0     | +1    |\n",
            "| 0     | WALL  | 0     | -1    |\n",
            "| 0     | 0     | 0     | 0     |\n",
            "\n",
            "During the value iteration (limited to 15 iterations):\n",
            "\n",
            "| -0.01 | -0.01 | 0.782 | +1    |\n",
            "| -0.01 | WALL  | -0.10 | -1    |\n",
            "| -0.01 | -0.01 | -0.01 | -0.10 |\n",
            "\n",
            "| -0.02 | 0.606 | 0.847 | +1    |\n",
            "| -0.02 | WALL  | 0.498 | -1    |\n",
            "| -0.02 | -0.02 | -0.04 | -0.13 |\n",
            "\n",
            "| 0.464 | 0.779 | 0.975 | +1    |\n",
            "| -0.03 | WALL  | 0.607 | -1    |\n",
            "| -0.03 | -0.03 | 0.365 | -0.16 |\n",
            "\n",
            "| 0.695 | 0.962 | 1.015 | +1    |\n",
            "| 0.347 | WALL  | 0.759 | -1    |\n",
            "| -0.04 | 0.269 | 0.487 | 0.146 |\n",
            "\n",
            "| 0.924 | 1.054 | 1.064 | +1    |\n",
            "| 0.605 | WALL  | 0.819 | -1    |\n",
            "| 0.283 | 0.424 | 0.681 | 0.306 |\n",
            "\n",
            "| 1.067 | 1.133 | 1.117 | +1    |\n",
            "| 0.870 | WALL  | 0.882 | -1    |\n",
            "| 0.567 | 0.641 | 0.778 | 0.491 |\n",
            "\n",
            "| 1.184 | 1.215 | 1.184 | +1    |\n",
            "| 1.064 | WALL  | 0.940 | -1    |\n",
            "| 0.855 | 0.789 | 0.877 | 0.604 |\n",
            "\n",
            "| 1.292 | 1.307 | 1.262 | +1    |\n",
            "| 1.223 | WALL  | 1.008 | -1    |\n",
            "| 1.080 | 0.926 | 0.959 | 0.706 |\n",
            "\n",
            "| 1.402 | 1.408 | 1.349 | +1    |\n",
            "| 1.363 | WALL  | 1.085 | -1    |\n",
            "| 1.264 | 1.124 | 1.045 | 0.790 |\n",
            "\n",
            "| 1.518 | 1.517 | 1.445 | +1    |\n",
            "| 1.496 | WALL  | 1.170 | -1    |\n",
            "| 1.431 | 1.317 | 1.169 | 0.875 |\n",
            "\n",
            "| 1.640 | 1.635 | 1.549 | +1    |\n",
            "| 1.630 | WALL  | 1.267 | -1    |\n",
            "| 1.588 | 1.500 | 1.352 | 0.990 |\n",
            "\n",
            "| 1.775 | 1.766 | 1.663 | +1    |\n",
            "| 1.769 | WALL  | 1.377 | -1    |\n",
            "| 1.744 | 1.679 | 1.535 | 1.158 |\n",
            "\n",
            "| 1.922 | 1.910 | 1.789 | +1    |\n",
            "| 1.919 | WALL  | 1.496 | -1    |\n",
            "| 1.903 | 1.856 | 1.723 | 1.336 |\n",
            "\n",
            "| 2.081 | 2.067 | 1.927 | +1    |\n",
            "| 2.080 | WALL  | 1.627 | -1    |\n",
            "| 2.070 | 2.035 | 1.911 | 1.520 |\n",
            "\n",
            "| 2.255 | 2.238 | 2.078 | +1    |\n",
            "| 2.255 | WALL  | 1.767 | -1    |\n",
            "| 2.249 | 2.222 | 2.102 | 1.705 |\n",
            "\n",
            "The optimal policy  4 iterations\n",
            "| Down  | Left  | Left  | +1    |\n",
            "| Left  | WALL  | Down  | -1    |\n",
            "| Up    | Left  | Left  | Left  |\n",
            "\n"
          ]
        }
      ]
    },
    {
      "cell_type": "code",
      "source": [
        "#8b\n",
        "import random\n",
        "REWARD = -0.01\n",
        "DISCOUNT = 0.99\n",
        "MAX_ERROR = 10**(-3)\n",
        "NUM_ACTIONS = 4\n",
        "ACTIONS = [(1, 0), (0, -1), (-1, 0), (0, 1)]\n",
        "NUM_ROW = 3\n",
        "NUM_COL = 4\n",
        "U = [[0, 0, 0, 1], [0, 0, 0, -1], [0, 0, 0, 0], [0, 0, 0, 0]]\n",
        "policy= [[random.randint(0, 3)  for j in  range(NUM_COL)] for i in range(NUM_ROW)]\n",
        "\n",
        "def printEnvironment(arr, policy=False):\n",
        "    res = \"\"\n",
        "    for r in range(NUM_ROW):\n",
        "        res += \"|\"\n",
        "    for c in range(NUM_COL):\n",
        "        if r == c == 1:\n",
        "            val = \"WALL\"\n",
        "        elif r <= 1 and c == 3:\n",
        "            val = \"+1\" if r == 0 else \"-1\"\n",
        "        else:\n",
        "            val = [\"Down\", \"Left\", \"Up\", \"Right\"][arr[r][c]]\n",
        "        res += \" \" + val[:5].ljust(5) + \" |\"\n",
        "    res += \"\\n\"\n",
        "    print(res)\n",
        "\n",
        "\n",
        "def getU(U, r, c, action):\n",
        "    dr, dc = ACTIONS[action]\n",
        "    newR, newC = r + dr, c + dc\n",
        "    if newR < 0 or newC < 0 or newR >= NUM_ROW or newC >= NUM_COL or (newR == newC == 1):\n",
        "        return U[r][c]\n",
        "    else:\n",
        "        return U[newR][newC]\n",
        "\n",
        "\n",
        "def calculateU(U, r, c, action):\n",
        "    u = REWARD\n",
        "    u += 0.1 * DISCOUNT * getU(U, r, c, (action - 1) % 4)\n",
        "    u += 0.8 * DISCOUNT * getU(U, r, c, action)\n",
        "    u += 0.1 * DISCOUNT * getU(U, r, c, (action + 1) % 4)\n",
        "    return u\n",
        "\n",
        "\n",
        "def policyEvaluation(policy, U):\n",
        "    while True:\n",
        "        nextU = [[0, 0, 0, 1], [0, 0, 0, -1], [0, 0, 0, 0], [0, 0, 0, 0]]\n",
        "        error = 0\n",
        "        for r in range(NUM_ROW):\n",
        "            for c in range(NUM_COL):\n",
        "                if (r <= 1 and c == 3) or (r == c == 1):\n",
        "                    continue\n",
        "                nextU[r][c] = calculateU(U, r, c, policy[r][c])\n",
        "                error = max(error, abs(nextU[r][c] - U[r][c]))\n",
        "        U = nextU\n",
        "        if error < MAX_ERROR * (1 - DISCOUNT) / DISCOUNT:\n",
        "            break\n",
        "    return U\n",
        "\n",
        "\n",
        "def policyIteration(policy, U):\n",
        "    print(\"During the policy iteration:\\n\")\n",
        "    while True:\n",
        "        U = policyEvaluation(policy, U)\n",
        "        unchanged = True\n",
        "        for r in range(NUM_ROW):\n",
        "            for c in range(NUM_COL):\n",
        "                if (r <= 1 and c == 3) or (r == c == 1):\n",
        "                    continue\n",
        "                maxAction, maxU = None, -float(\"inf\")\n",
        "                for action in range(NUM_ACTIONS):\n",
        "                    u = calculateU(U, r, c, action)\n",
        "                    if u > maxU:\n",
        "                        maxAction, maxU = action, u\n",
        "                if maxU > calculateU(U, r, c, policy[r][c]):\n",
        "                    policy[r][c] = maxAction\n",
        "                    unchanged = False\n",
        "        if unchanged:\n",
        "            break\n",
        "        printEnvironment(policy)\n",
        "    return policy\n",
        "\n",
        "\n",
        "print(\"The initial random policy is:\\n\")\n",
        "printEnvironment(policy)\n",
        "policy = policyIteration(policy, U)\n",
        "print(\"The optimal policy is:\\n\")\n",
        "printEnvironment(policy)"
      ],
      "metadata": {
        "colab": {
          "base_uri": "https://localhost:8080/"
        },
        "id": "FtwSgQerkZIk",
        "outputId": "98674e55-4436-42da-b89a-7c232d9f1300"
      },
      "execution_count": null,
      "outputs": [
        {
          "output_type": "stream",
          "name": "stdout",
          "text": [
            "The initial random policy is:\n",
            "\n",
            "||| Up    | Right | Down  | Up    |\n",
            "\n",
            "During the policy iteration:\n",
            "\n",
            "||| Left  | Left  | Up    | Left  |\n",
            "\n",
            "||| Up    | Right | Up    | Down  |\n",
            "\n",
            "||| Up    | Left  | Up    | Down  |\n",
            "\n",
            "||| Up    | Left  | Left  | Down  |\n",
            "\n",
            "The optimal policy is:\n",
            "\n",
            "||| Up    | Left  | Left  | Down  |\n",
            "\n"
          ]
        }
      ]
    },
    {
      "cell_type": "code",
      "source": [
        "import numpy as np\n",
        "from urllib.request import urlopen\n",
        "import urllib\n",
        "import pandas as pd\n",
        "import pgmpy\n",
        "from pgmpy.inference import VariableElimination\n",
        "from pgmpy.models import BayesianModel\n",
        "from pgmpy.estimators import MaximumLikelihoodEstimator,BayesianEstimator\n",
        "names = ['age','chol', 'fbs', 'restecg', 'thalach','target']\n",
        "heartDisease = pd.read_csv('/content/login.htm')\n",
        "heartDisease = heartDisease.replace('?', np.nan)\n",
        "model = BayesianModel([('age', 'fbs'), ('fbs', 'target'), ('target', 'restecg'),('target','thal'), ('target','chol')])\n",
        "model.fit(heartDisease, estimator=MaximumLikelihoodEstimator)\n",
        "from pgmpy.inference import VariableElimination\n",
        "HeartDisease_infer = VariableElimination(model)\n",
        "q = HeartDisease_infer.query(variables=['target'], evidence={'age': 37})\n",
        "print(q)"
      ],
      "metadata": {
        "id": "-6AdiTztknaO",
        "colab": {
          "base_uri": "https://localhost:8080/",
          "height": 269
        },
        "outputId": "ac522111-ec99-4246-baa2-ddbd4b4d8e1b"
      },
      "execution_count": null,
      "outputs": [
        {
          "output_type": "error",
          "ename": "ParserError",
          "evalue": "Error tokenizing data. C error: Expected 1 fields in line 9, saw 2\n",
          "traceback": [
            "\u001b[0;31m---------------------------------------------------------------------------\u001b[0m",
            "\u001b[0;31mParserError\u001b[0m                               Traceback (most recent call last)",
            "\u001b[0;32m<ipython-input-13-871660880c10>\u001b[0m in \u001b[0;36m<cell line: 10>\u001b[0;34m()\u001b[0m\n\u001b[1;32m      8\u001b[0m \u001b[0;32mfrom\u001b[0m \u001b[0mpgmpy\u001b[0m\u001b[0;34m.\u001b[0m\u001b[0mestimators\u001b[0m \u001b[0;32mimport\u001b[0m \u001b[0mMaximumLikelihoodEstimator\u001b[0m\u001b[0;34m,\u001b[0m\u001b[0mBayesianEstimator\u001b[0m\u001b[0;34m\u001b[0m\u001b[0;34m\u001b[0m\u001b[0m\n\u001b[1;32m      9\u001b[0m \u001b[0mnames\u001b[0m \u001b[0;34m=\u001b[0m \u001b[0;34m[\u001b[0m\u001b[0;34m'age'\u001b[0m\u001b[0;34m,\u001b[0m\u001b[0;34m'chol'\u001b[0m\u001b[0;34m,\u001b[0m \u001b[0;34m'fbs'\u001b[0m\u001b[0;34m,\u001b[0m \u001b[0;34m'restecg'\u001b[0m\u001b[0;34m,\u001b[0m \u001b[0;34m'thalach'\u001b[0m\u001b[0;34m,\u001b[0m\u001b[0;34m'target'\u001b[0m\u001b[0;34m]\u001b[0m\u001b[0;34m\u001b[0m\u001b[0;34m\u001b[0m\u001b[0m\n\u001b[0;32m---> 10\u001b[0;31m \u001b[0mheartDisease\u001b[0m \u001b[0;34m=\u001b[0m \u001b[0mpd\u001b[0m\u001b[0;34m.\u001b[0m\u001b[0mread_csv\u001b[0m\u001b[0;34m(\u001b[0m\u001b[0;34m'/content/login.htm'\u001b[0m\u001b[0;34m)\u001b[0m\u001b[0;34m\u001b[0m\u001b[0;34m\u001b[0m\u001b[0m\n\u001b[0m\u001b[1;32m     11\u001b[0m \u001b[0mheartDisease\u001b[0m \u001b[0;34m=\u001b[0m \u001b[0mheartDisease\u001b[0m\u001b[0;34m.\u001b[0m\u001b[0mreplace\u001b[0m\u001b[0;34m(\u001b[0m\u001b[0;34m'?'\u001b[0m\u001b[0;34m,\u001b[0m \u001b[0mnp\u001b[0m\u001b[0;34m.\u001b[0m\u001b[0mnan\u001b[0m\u001b[0;34m)\u001b[0m\u001b[0;34m\u001b[0m\u001b[0;34m\u001b[0m\u001b[0m\n\u001b[1;32m     12\u001b[0m \u001b[0mmodel\u001b[0m \u001b[0;34m=\u001b[0m \u001b[0mBayesianModel\u001b[0m\u001b[0;34m(\u001b[0m\u001b[0;34m[\u001b[0m\u001b[0;34m(\u001b[0m\u001b[0;34m'age'\u001b[0m\u001b[0;34m,\u001b[0m \u001b[0;34m'fbs'\u001b[0m\u001b[0;34m)\u001b[0m\u001b[0;34m,\u001b[0m \u001b[0;34m(\u001b[0m\u001b[0;34m'fbs'\u001b[0m\u001b[0;34m,\u001b[0m \u001b[0;34m'target'\u001b[0m\u001b[0;34m)\u001b[0m\u001b[0;34m,\u001b[0m \u001b[0;34m(\u001b[0m\u001b[0;34m'target'\u001b[0m\u001b[0;34m,\u001b[0m \u001b[0;34m'restecg'\u001b[0m\u001b[0;34m)\u001b[0m\u001b[0;34m,\u001b[0m\u001b[0;34m(\u001b[0m\u001b[0;34m'target'\u001b[0m\u001b[0;34m,\u001b[0m\u001b[0;34m'thal'\u001b[0m\u001b[0;34m)\u001b[0m\u001b[0;34m,\u001b[0m \u001b[0;34m(\u001b[0m\u001b[0;34m'target'\u001b[0m\u001b[0;34m,\u001b[0m\u001b[0;34m'chol'\u001b[0m\u001b[0;34m)\u001b[0m\u001b[0;34m]\u001b[0m\u001b[0;34m)\u001b[0m\u001b[0;34m\u001b[0m\u001b[0;34m\u001b[0m\u001b[0m\n",
            "\u001b[0;32m/usr/local/lib/python3.10/dist-packages/pandas/io/parsers/readers.py\u001b[0m in \u001b[0;36mread_csv\u001b[0;34m(filepath_or_buffer, sep, delimiter, header, names, index_col, usecols, dtype, engine, converters, true_values, false_values, skipinitialspace, skiprows, skipfooter, nrows, na_values, keep_default_na, na_filter, verbose, skip_blank_lines, parse_dates, infer_datetime_format, keep_date_col, date_parser, date_format, dayfirst, cache_dates, iterator, chunksize, compression, thousands, decimal, lineterminator, quotechar, quoting, doublequote, escapechar, comment, encoding, encoding_errors, dialect, on_bad_lines, delim_whitespace, low_memory, memory_map, float_precision, storage_options, dtype_backend)\u001b[0m\n\u001b[1;32m    910\u001b[0m     \u001b[0mkwds\u001b[0m\u001b[0;34m.\u001b[0m\u001b[0mupdate\u001b[0m\u001b[0;34m(\u001b[0m\u001b[0mkwds_defaults\u001b[0m\u001b[0;34m)\u001b[0m\u001b[0;34m\u001b[0m\u001b[0;34m\u001b[0m\u001b[0m\n\u001b[1;32m    911\u001b[0m \u001b[0;34m\u001b[0m\u001b[0m\n\u001b[0;32m--> 912\u001b[0;31m     \u001b[0;32mreturn\u001b[0m \u001b[0m_read\u001b[0m\u001b[0;34m(\u001b[0m\u001b[0mfilepath_or_buffer\u001b[0m\u001b[0;34m,\u001b[0m \u001b[0mkwds\u001b[0m\u001b[0;34m)\u001b[0m\u001b[0;34m\u001b[0m\u001b[0;34m\u001b[0m\u001b[0m\n\u001b[0m\u001b[1;32m    913\u001b[0m \u001b[0;34m\u001b[0m\u001b[0m\n\u001b[1;32m    914\u001b[0m \u001b[0;34m\u001b[0m\u001b[0m\n",
            "\u001b[0;32m/usr/local/lib/python3.10/dist-packages/pandas/io/parsers/readers.py\u001b[0m in \u001b[0;36m_read\u001b[0;34m(filepath_or_buffer, kwds)\u001b[0m\n\u001b[1;32m    581\u001b[0m \u001b[0;34m\u001b[0m\u001b[0m\n\u001b[1;32m    582\u001b[0m     \u001b[0;32mwith\u001b[0m \u001b[0mparser\u001b[0m\u001b[0;34m:\u001b[0m\u001b[0;34m\u001b[0m\u001b[0;34m\u001b[0m\u001b[0m\n\u001b[0;32m--> 583\u001b[0;31m         \u001b[0;32mreturn\u001b[0m \u001b[0mparser\u001b[0m\u001b[0;34m.\u001b[0m\u001b[0mread\u001b[0m\u001b[0;34m(\u001b[0m\u001b[0mnrows\u001b[0m\u001b[0;34m)\u001b[0m\u001b[0;34m\u001b[0m\u001b[0;34m\u001b[0m\u001b[0m\n\u001b[0m\u001b[1;32m    584\u001b[0m \u001b[0;34m\u001b[0m\u001b[0m\n\u001b[1;32m    585\u001b[0m \u001b[0;34m\u001b[0m\u001b[0m\n",
            "\u001b[0;32m/usr/local/lib/python3.10/dist-packages/pandas/io/parsers/readers.py\u001b[0m in \u001b[0;36mread\u001b[0;34m(self, nrows)\u001b[0m\n\u001b[1;32m   1702\u001b[0m                     \u001b[0mcolumns\u001b[0m\u001b[0;34m,\u001b[0m\u001b[0;34m\u001b[0m\u001b[0;34m\u001b[0m\u001b[0m\n\u001b[1;32m   1703\u001b[0m                     \u001b[0mcol_dict\u001b[0m\u001b[0;34m,\u001b[0m\u001b[0;34m\u001b[0m\u001b[0;34m\u001b[0m\u001b[0m\n\u001b[0;32m-> 1704\u001b[0;31m                 \u001b[0;34m)\u001b[0m \u001b[0;34m=\u001b[0m \u001b[0mself\u001b[0m\u001b[0;34m.\u001b[0m\u001b[0m_engine\u001b[0m\u001b[0;34m.\u001b[0m\u001b[0mread\u001b[0m\u001b[0;34m(\u001b[0m  \u001b[0;31m# type: ignore[attr-defined]\u001b[0m\u001b[0;34m\u001b[0m\u001b[0;34m\u001b[0m\u001b[0m\n\u001b[0m\u001b[1;32m   1705\u001b[0m                     \u001b[0mnrows\u001b[0m\u001b[0;34m\u001b[0m\u001b[0;34m\u001b[0m\u001b[0m\n\u001b[1;32m   1706\u001b[0m                 )\n",
            "\u001b[0;32m/usr/local/lib/python3.10/dist-packages/pandas/io/parsers/c_parser_wrapper.py\u001b[0m in \u001b[0;36mread\u001b[0;34m(self, nrows)\u001b[0m\n\u001b[1;32m    232\u001b[0m         \u001b[0;32mtry\u001b[0m\u001b[0;34m:\u001b[0m\u001b[0;34m\u001b[0m\u001b[0;34m\u001b[0m\u001b[0m\n\u001b[1;32m    233\u001b[0m             \u001b[0;32mif\u001b[0m \u001b[0mself\u001b[0m\u001b[0;34m.\u001b[0m\u001b[0mlow_memory\u001b[0m\u001b[0;34m:\u001b[0m\u001b[0;34m\u001b[0m\u001b[0;34m\u001b[0m\u001b[0m\n\u001b[0;32m--> 234\u001b[0;31m                 \u001b[0mchunks\u001b[0m \u001b[0;34m=\u001b[0m \u001b[0mself\u001b[0m\u001b[0;34m.\u001b[0m\u001b[0m_reader\u001b[0m\u001b[0;34m.\u001b[0m\u001b[0mread_low_memory\u001b[0m\u001b[0;34m(\u001b[0m\u001b[0mnrows\u001b[0m\u001b[0;34m)\u001b[0m\u001b[0;34m\u001b[0m\u001b[0;34m\u001b[0m\u001b[0m\n\u001b[0m\u001b[1;32m    235\u001b[0m                 \u001b[0;31m# destructive to chunks\u001b[0m\u001b[0;34m\u001b[0m\u001b[0;34m\u001b[0m\u001b[0m\n\u001b[1;32m    236\u001b[0m                 \u001b[0mdata\u001b[0m \u001b[0;34m=\u001b[0m \u001b[0m_concatenate_chunks\u001b[0m\u001b[0;34m(\u001b[0m\u001b[0mchunks\u001b[0m\u001b[0;34m)\u001b[0m\u001b[0;34m\u001b[0m\u001b[0;34m\u001b[0m\u001b[0m\n",
            "\u001b[0;32m/usr/local/lib/python3.10/dist-packages/pandas/_libs/parsers.pyx\u001b[0m in \u001b[0;36mpandas._libs.parsers.TextReader.read_low_memory\u001b[0;34m()\u001b[0m\n",
            "\u001b[0;32m/usr/local/lib/python3.10/dist-packages/pandas/_libs/parsers.pyx\u001b[0m in \u001b[0;36mpandas._libs.parsers.TextReader._read_rows\u001b[0;34m()\u001b[0m\n",
            "\u001b[0;32m/usr/local/lib/python3.10/dist-packages/pandas/_libs/parsers.pyx\u001b[0m in \u001b[0;36mpandas._libs.parsers.TextReader._tokenize_rows\u001b[0;34m()\u001b[0m\n",
            "\u001b[0;32m/usr/local/lib/python3.10/dist-packages/pandas/_libs/parsers.pyx\u001b[0m in \u001b[0;36mpandas._libs.parsers.TextReader._check_tokenize_status\u001b[0;34m()\u001b[0m\n",
            "\u001b[0;32m/usr/local/lib/python3.10/dist-packages/pandas/_libs/parsers.pyx\u001b[0m in \u001b[0;36mpandas._libs.parsers.raise_parser_error\u001b[0;34m()\u001b[0m\n",
            "\u001b[0;31mParserError\u001b[0m: Error tokenizing data. C error: Expected 1 fields in line 9, saw 2\n"
          ]
        }
      ]
    }
  ]
}